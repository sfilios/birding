{
 "cells": [
  {
   "cell_type": "code",
   "execution_count": 2,
   "metadata": {},
   "outputs": [
    {
     "name": "stdout",
     "output_type": "stream",
     "text": [
      "Birding_Data_2016.csv       cleaned_birding_data.csv\r\n",
      "Cleaning_birding_data.ipynb\r\n"
     ]
    }
   ],
   "source": [
    "!ls"
   ]
  },
  {
   "cell_type": "code",
   "execution_count": 3,
   "metadata": {},
   "outputs": [],
   "source": [
    "import pandas as pd\n",
    "import numpy as np"
   ]
  },
  {
   "cell_type": "code",
   "execution_count": 4,
   "metadata": {},
   "outputs": [],
   "source": [
    "data = pd.read_csv(\"Birding_Data_2016.csv\")"
   ]
  },
  {
   "cell_type": "code",
   "execution_count": 5,
   "metadata": {},
   "outputs": [],
   "source": [
    "#data.head()"
   ]
  },
  {
   "cell_type": "code",
   "execution_count": 6,
   "metadata": {},
   "outputs": [],
   "source": [
    "#data.tail()"
   ]
  },
  {
   "cell_type": "markdown",
   "metadata": {},
   "source": [
    "We can see from the head of this data that there are repeated columns for each person to record their bird sightings. Unfortunately, while it's easy for entry, this data is hard to use for analysis in its current format. I'm going to change it so that there are only 4 data columns, and each bird sighting will be listed as a separate row. The column we will add will be \"Birder\", so that we can keep the data on who saw what, without having to repeat columns."
   ]
  },
  {
   "cell_type": "code",
   "execution_count": 7,
   "metadata": {},
   "outputs": [
    {
     "data": {
      "text/html": [
       "<div>\n",
       "<style scoped>\n",
       "    .dataframe tbody tr th:only-of-type {\n",
       "        vertical-align: middle;\n",
       "    }\n",
       "\n",
       "    .dataframe tbody tr th {\n",
       "        vertical-align: top;\n",
       "    }\n",
       "\n",
       "    .dataframe thead th {\n",
       "        text-align: right;\n",
       "    }\n",
       "</style>\n",
       "<table border=\"1\" class=\"dataframe\">\n",
       "  <thead>\n",
       "    <tr style=\"text-align: right;\">\n",
       "      <th></th>\n",
       "      <th>Bright</th>\n",
       "      <th>Unnamed: 1</th>\n",
       "      <th>Unnamed: 2</th>\n",
       "    </tr>\n",
       "  </thead>\n",
       "  <tbody>\n",
       "    <tr>\n",
       "      <th>0</th>\n",
       "      <td>Species</td>\n",
       "      <td>Date</td>\n",
       "      <td>Location</td>\n",
       "    </tr>\n",
       "    <tr>\n",
       "      <th>1</th>\n",
       "      <td>Pileated Woodpecker</td>\n",
       "      <td>1/1/2016</td>\n",
       "      <td>CDA, ID</td>\n",
       "    </tr>\n",
       "    <tr>\n",
       "      <th>2</th>\n",
       "      <td>Black-billed Magpie</td>\n",
       "      <td>1/1/2016</td>\n",
       "      <td>CDA, ID</td>\n",
       "    </tr>\n",
       "    <tr>\n",
       "      <th>3</th>\n",
       "      <td>Common Raven</td>\n",
       "      <td>1/1/2016</td>\n",
       "      <td>CDA, ID</td>\n",
       "    </tr>\n",
       "    <tr>\n",
       "      <th>4</th>\n",
       "      <td>Black-capped Chickadee</td>\n",
       "      <td>1/1/2016</td>\n",
       "      <td>CDA, ID</td>\n",
       "    </tr>\n",
       "  </tbody>\n",
       "</table>\n",
       "</div>"
      ],
      "text/plain": [
       "                   Bright Unnamed: 1 Unnamed: 2\n",
       "0                 Species       Date   Location\n",
       "1     Pileated Woodpecker   1/1/2016    CDA, ID\n",
       "2     Black-billed Magpie   1/1/2016    CDA, ID\n",
       "3            Common Raven   1/1/2016    CDA, ID\n",
       "4  Black-capped Chickadee   1/1/2016    CDA, ID"
      ]
     },
     "execution_count": 7,
     "metadata": {},
     "output_type": "execute_result"
    }
   ],
   "source": [
    "new_data = data.iloc[:, :3] #select only the first 3 columns and make it a new dataframe\n",
    "new_data.head()"
   ]
  },
  {
   "cell_type": "code",
   "execution_count": 8,
   "metadata": {},
   "outputs": [
    {
     "name": "stderr",
     "output_type": "stream",
     "text": [
      "/anaconda3/lib/python3.6/site-packages/ipykernel_launcher.py:2: SettingWithCopyWarning: \n",
      "A value is trying to be set on a copy of a slice from a DataFrame.\n",
      "Try using .loc[row_indexer,col_indexer] = value instead\n",
      "\n",
      "See the caveats in the documentation: http://pandas.pydata.org/pandas-docs/stable/indexing.html#indexing-view-versus-copy\n",
      "  \n"
     ]
    }
   ],
   "source": [
    "#create a new column to identify who saw the bird\n",
    "new_data['Birder'] = new_data.columns[0]"
   ]
  },
  {
   "cell_type": "code",
   "execution_count": 9,
   "metadata": {},
   "outputs": [
    {
     "data": {
      "text/html": [
       "<div>\n",
       "<style scoped>\n",
       "    .dataframe tbody tr th:only-of-type {\n",
       "        vertical-align: middle;\n",
       "    }\n",
       "\n",
       "    .dataframe tbody tr th {\n",
       "        vertical-align: top;\n",
       "    }\n",
       "\n",
       "    .dataframe thead th {\n",
       "        text-align: right;\n",
       "    }\n",
       "</style>\n",
       "<table border=\"1\" class=\"dataframe\">\n",
       "  <thead>\n",
       "    <tr style=\"text-align: right;\">\n",
       "      <th></th>\n",
       "      <th>Bright</th>\n",
       "      <th>Unnamed: 1</th>\n",
       "      <th>Unnamed: 2</th>\n",
       "      <th>Birder</th>\n",
       "    </tr>\n",
       "  </thead>\n",
       "  <tbody>\n",
       "    <tr>\n",
       "      <th>0</th>\n",
       "      <td>Species</td>\n",
       "      <td>Date</td>\n",
       "      <td>Location</td>\n",
       "      <td>Bright</td>\n",
       "    </tr>\n",
       "    <tr>\n",
       "      <th>1</th>\n",
       "      <td>Pileated Woodpecker</td>\n",
       "      <td>1/1/2016</td>\n",
       "      <td>CDA, ID</td>\n",
       "      <td>Bright</td>\n",
       "    </tr>\n",
       "    <tr>\n",
       "      <th>2</th>\n",
       "      <td>Black-billed Magpie</td>\n",
       "      <td>1/1/2016</td>\n",
       "      <td>CDA, ID</td>\n",
       "      <td>Bright</td>\n",
       "    </tr>\n",
       "    <tr>\n",
       "      <th>3</th>\n",
       "      <td>Common Raven</td>\n",
       "      <td>1/1/2016</td>\n",
       "      <td>CDA, ID</td>\n",
       "      <td>Bright</td>\n",
       "    </tr>\n",
       "    <tr>\n",
       "      <th>4</th>\n",
       "      <td>Black-capped Chickadee</td>\n",
       "      <td>1/1/2016</td>\n",
       "      <td>CDA, ID</td>\n",
       "      <td>Bright</td>\n",
       "    </tr>\n",
       "  </tbody>\n",
       "</table>\n",
       "</div>"
      ],
      "text/plain": [
       "                   Bright Unnamed: 1 Unnamed: 2  Birder\n",
       "0                 Species       Date   Location  Bright\n",
       "1     Pileated Woodpecker   1/1/2016    CDA, ID  Bright\n",
       "2     Black-billed Magpie   1/1/2016    CDA, ID  Bright\n",
       "3            Common Raven   1/1/2016    CDA, ID  Bright\n",
       "4  Black-capped Chickadee   1/1/2016    CDA, ID  Bright"
      ]
     },
     "execution_count": 9,
     "metadata": {},
     "output_type": "execute_result"
    }
   ],
   "source": [
    "new_data.head()"
   ]
  },
  {
   "cell_type": "code",
   "execution_count": 10,
   "metadata": {},
   "outputs": [
    {
     "name": "stderr",
     "output_type": "stream",
     "text": [
      "/anaconda3/lib/python3.6/site-packages/pandas/core/frame.py:3778: SettingWithCopyWarning: \n",
      "A value is trying to be set on a copy of a slice from a DataFrame\n",
      "\n",
      "See the caveats in the documentation: http://pandas.pydata.org/pandas-docs/stable/indexing.html#indexing-view-versus-copy\n",
      "  return super(DataFrame, self).rename(**kwargs)\n"
     ]
    },
    {
     "data": {
      "text/html": [
       "<div>\n",
       "<style scoped>\n",
       "    .dataframe tbody tr th:only-of-type {\n",
       "        vertical-align: middle;\n",
       "    }\n",
       "\n",
       "    .dataframe tbody tr th {\n",
       "        vertical-align: top;\n",
       "    }\n",
       "\n",
       "    .dataframe thead th {\n",
       "        text-align: right;\n",
       "    }\n",
       "</style>\n",
       "<table border=\"1\" class=\"dataframe\">\n",
       "  <thead>\n",
       "    <tr style=\"text-align: right;\">\n",
       "      <th></th>\n",
       "      <th>Species</th>\n",
       "      <th>Date</th>\n",
       "      <th>Location</th>\n",
       "      <th>Birder</th>\n",
       "    </tr>\n",
       "  </thead>\n",
       "  <tbody>\n",
       "    <tr>\n",
       "      <th>0</th>\n",
       "      <td>Species</td>\n",
       "      <td>Date</td>\n",
       "      <td>Location</td>\n",
       "      <td>Bright</td>\n",
       "    </tr>\n",
       "    <tr>\n",
       "      <th>1</th>\n",
       "      <td>Pileated Woodpecker</td>\n",
       "      <td>1/1/2016</td>\n",
       "      <td>CDA, ID</td>\n",
       "      <td>Bright</td>\n",
       "    </tr>\n",
       "    <tr>\n",
       "      <th>2</th>\n",
       "      <td>Black-billed Magpie</td>\n",
       "      <td>1/1/2016</td>\n",
       "      <td>CDA, ID</td>\n",
       "      <td>Bright</td>\n",
       "    </tr>\n",
       "    <tr>\n",
       "      <th>3</th>\n",
       "      <td>Common Raven</td>\n",
       "      <td>1/1/2016</td>\n",
       "      <td>CDA, ID</td>\n",
       "      <td>Bright</td>\n",
       "    </tr>\n",
       "    <tr>\n",
       "      <th>4</th>\n",
       "      <td>Black-capped Chickadee</td>\n",
       "      <td>1/1/2016</td>\n",
       "      <td>CDA, ID</td>\n",
       "      <td>Bright</td>\n",
       "    </tr>\n",
       "  </tbody>\n",
       "</table>\n",
       "</div>"
      ],
      "text/plain": [
       "                  Species      Date  Location  Birder\n",
       "0                 Species      Date  Location  Bright\n",
       "1     Pileated Woodpecker  1/1/2016   CDA, ID  Bright\n",
       "2     Black-billed Magpie  1/1/2016   CDA, ID  Bright\n",
       "3            Common Raven  1/1/2016   CDA, ID  Bright\n",
       "4  Black-capped Chickadee  1/1/2016   CDA, ID  Bright"
      ]
     },
     "execution_count": 10,
     "metadata": {},
     "output_type": "execute_result"
    }
   ],
   "source": [
    "#the column names that we want to use are held in the first row, so we'll copy those\n",
    "column_names=new_data[:1].values\n",
    "\n",
    "new_data.columns = column_names[0] #because it's in a series, we assign the first item in column_names\n",
    "\n",
    "#unfortunately, this renamed our birder column because of the way the data was previously structured\n",
    "#we will rename it here because to append the other columns properly, the column names must be identical.\n",
    "new_data.rename(columns={'Bright':'Birder'}, inplace=True)\n",
    "new_data.head()"
   ]
  },
  {
   "cell_type": "code",
   "execution_count": 11,
   "metadata": {},
   "outputs": [
    {
     "data": {
      "text/html": [
       "<div>\n",
       "<style scoped>\n",
       "    .dataframe tbody tr th:only-of-type {\n",
       "        vertical-align: middle;\n",
       "    }\n",
       "\n",
       "    .dataframe tbody tr th {\n",
       "        vertical-align: top;\n",
       "    }\n",
       "\n",
       "    .dataframe thead th {\n",
       "        text-align: right;\n",
       "    }\n",
       "</style>\n",
       "<table border=\"1\" class=\"dataframe\">\n",
       "  <thead>\n",
       "    <tr style=\"text-align: right;\">\n",
       "      <th></th>\n",
       "      <th>Species</th>\n",
       "      <th>Date</th>\n",
       "      <th>Location</th>\n",
       "      <th>Birder</th>\n",
       "    </tr>\n",
       "  </thead>\n",
       "  <tbody>\n",
       "    <tr>\n",
       "      <th>1</th>\n",
       "      <td>Pileated Woodpecker</td>\n",
       "      <td>1/1/2016</td>\n",
       "      <td>CDA, ID</td>\n",
       "      <td>Bright</td>\n",
       "    </tr>\n",
       "    <tr>\n",
       "      <th>2</th>\n",
       "      <td>Black-billed Magpie</td>\n",
       "      <td>1/1/2016</td>\n",
       "      <td>CDA, ID</td>\n",
       "      <td>Bright</td>\n",
       "    </tr>\n",
       "    <tr>\n",
       "      <th>3</th>\n",
       "      <td>Common Raven</td>\n",
       "      <td>1/1/2016</td>\n",
       "      <td>CDA, ID</td>\n",
       "      <td>Bright</td>\n",
       "    </tr>\n",
       "    <tr>\n",
       "      <th>4</th>\n",
       "      <td>Black-capped Chickadee</td>\n",
       "      <td>1/1/2016</td>\n",
       "      <td>CDA, ID</td>\n",
       "      <td>Bright</td>\n",
       "    </tr>\n",
       "    <tr>\n",
       "      <th>5</th>\n",
       "      <td>Wild Turkey</td>\n",
       "      <td>1/3/2016</td>\n",
       "      <td>Hwy 95, ID</td>\n",
       "      <td>Bright</td>\n",
       "    </tr>\n",
       "  </tbody>\n",
       "</table>\n",
       "</div>"
      ],
      "text/plain": [
       "                  Species      Date    Location  Birder\n",
       "1     Pileated Woodpecker  1/1/2016     CDA, ID  Bright\n",
       "2     Black-billed Magpie  1/1/2016     CDA, ID  Bright\n",
       "3            Common Raven  1/1/2016     CDA, ID  Bright\n",
       "4  Black-capped Chickadee  1/1/2016     CDA, ID  Bright\n",
       "5             Wild Turkey  1/3/2016  Hwy 95, ID  Bright"
      ]
     },
     "execution_count": 11,
     "metadata": {},
     "output_type": "execute_result"
    }
   ],
   "source": [
    "#we drop the first row, since that was our column names\n",
    "new_data = new_data.drop(new_data.index[0])\n",
    "new_data.head()"
   ]
  },
  {
   "cell_type": "code",
   "execution_count": 12,
   "metadata": {},
   "outputs": [],
   "source": [
    "#we repeat the processing steps that we did with the first 3 rows with the next two sets of rows\n",
    "#each set of 3 rows represents another person whose data we want to add to the end of the list\n",
    "\n",
    "filios = data.iloc[:, 3:6]\n",
    "other_guy = data.iloc[:, 6:9]\n",
    "filios = filios.drop(filios.index[0])\n",
    "other_guy = other_guy.drop(other_guy.index[0])\n",
    "filios['Birder'] = filios.columns[0]\n",
    "other_guy['Birder'] = other_guy.columns[0]"
   ]
  },
  {
   "cell_type": "code",
   "execution_count": 13,
   "metadata": {},
   "outputs": [
    {
     "data": {
      "text/html": [
       "<div>\n",
       "<style scoped>\n",
       "    .dataframe tbody tr th:only-of-type {\n",
       "        vertical-align: middle;\n",
       "    }\n",
       "\n",
       "    .dataframe tbody tr th {\n",
       "        vertical-align: top;\n",
       "    }\n",
       "\n",
       "    .dataframe thead th {\n",
       "        text-align: right;\n",
       "    }\n",
       "</style>\n",
       "<table border=\"1\" class=\"dataframe\">\n",
       "  <thead>\n",
       "    <tr style=\"text-align: right;\">\n",
       "      <th></th>\n",
       "      <th>Species</th>\n",
       "      <th>Date</th>\n",
       "      <th>Location</th>\n",
       "      <th>Birder</th>\n",
       "    </tr>\n",
       "  </thead>\n",
       "  <tbody>\n",
       "    <tr>\n",
       "      <th>1</th>\n",
       "      <td>Northern Cardinal</td>\n",
       "      <td>1/1/2016</td>\n",
       "      <td>Canton, MI</td>\n",
       "      <td>Filios</td>\n",
       "    </tr>\n",
       "    <tr>\n",
       "      <th>2</th>\n",
       "      <td>Blue Jay</td>\n",
       "      <td>1/1/2016</td>\n",
       "      <td>Canton, MI</td>\n",
       "      <td>Filios</td>\n",
       "    </tr>\n",
       "    <tr>\n",
       "      <th>3</th>\n",
       "      <td>Mourning Dove</td>\n",
       "      <td>1/1/2016</td>\n",
       "      <td>Canton, MI</td>\n",
       "      <td>Filios</td>\n",
       "    </tr>\n",
       "    <tr>\n",
       "      <th>4</th>\n",
       "      <td>Canada Goose</td>\n",
       "      <td>1/1/2016</td>\n",
       "      <td>Canton, MI</td>\n",
       "      <td>Filios</td>\n",
       "    </tr>\n",
       "    <tr>\n",
       "      <th>5</th>\n",
       "      <td>White-crowned Sparrow</td>\n",
       "      <td>1/5/2016</td>\n",
       "      <td>San Francisco, CA</td>\n",
       "      <td>Filios</td>\n",
       "    </tr>\n",
       "  </tbody>\n",
       "</table>\n",
       "</div>"
      ],
      "text/plain": [
       "                 Species      Date           Location  Birder\n",
       "1      Northern Cardinal  1/1/2016         Canton, MI  Filios\n",
       "2               Blue Jay  1/1/2016         Canton, MI  Filios\n",
       "3          Mourning Dove  1/1/2016         Canton, MI  Filios\n",
       "4           Canada Goose  1/1/2016         Canton, MI  Filios\n",
       "5  White-crowned Sparrow  1/5/2016  San Francisco, CA  Filios"
      ]
     },
     "execution_count": 13,
     "metadata": {},
     "output_type": "execute_result"
    }
   ],
   "source": [
    "#we again do the same steps as before, to make sure these dataframes are also named properly\n",
    "filios.columns = column_names[0] \n",
    "other_guy.columns = column_names[0] \n",
    "\n",
    "filios.rename(columns={'Bright':'Birder'}, inplace=True)\n",
    "other_guy.rename(columns={'Bright':'Birder'}, inplace=True)\n",
    "filios.head()"
   ]
  },
  {
   "cell_type": "code",
   "execution_count": 14,
   "metadata": {},
   "outputs": [],
   "source": [
    "#now, we add each of the dataframes together to get a new combined list\n",
    "appended = new_data.append(filios)\n",
    "appended = appended.append(other_guy)"
   ]
  },
  {
   "cell_type": "code",
   "execution_count": 15,
   "metadata": {},
   "outputs": [],
   "source": [
    "#the format of the original data had empty spaces where Ben saw birds and the rest of us didn't\n",
    "#it's safe to drop all of those instances\n",
    "final_data = appended.dropna()"
   ]
  },
  {
   "cell_type": "code",
   "execution_count": 16,
   "metadata": {},
   "outputs": [
    {
     "data": {
      "text/html": [
       "<div>\n",
       "<style scoped>\n",
       "    .dataframe tbody tr th:only-of-type {\n",
       "        vertical-align: middle;\n",
       "    }\n",
       "\n",
       "    .dataframe tbody tr th {\n",
       "        vertical-align: top;\n",
       "    }\n",
       "\n",
       "    .dataframe thead th {\n",
       "        text-align: right;\n",
       "    }\n",
       "</style>\n",
       "<table border=\"1\" class=\"dataframe\">\n",
       "  <thead>\n",
       "    <tr style=\"text-align: right;\">\n",
       "      <th></th>\n",
       "      <th>Species</th>\n",
       "      <th>Date</th>\n",
       "      <th>Location</th>\n",
       "      <th>Birder</th>\n",
       "    </tr>\n",
       "  </thead>\n",
       "  <tbody>\n",
       "    <tr>\n",
       "      <th>37</th>\n",
       "      <td>House Sparrow</td>\n",
       "      <td>3Apr2016</td>\n",
       "      <td>Mt. View Park Moscow, ID</td>\n",
       "      <td>Bowles</td>\n",
       "    </tr>\n",
       "    <tr>\n",
       "      <th>38</th>\n",
       "      <td>House Finch</td>\n",
       "      <td>Mar2016</td>\n",
       "      <td>WSU Campus</td>\n",
       "      <td>Bowles</td>\n",
       "    </tr>\n",
       "    <tr>\n",
       "      <th>39</th>\n",
       "      <td>American Wigeon</td>\n",
       "      <td>Mar2016</td>\n",
       "      <td>Clarkston, WA</td>\n",
       "      <td>Bowles</td>\n",
       "    </tr>\n",
       "    <tr>\n",
       "      <th>40</th>\n",
       "      <td>American Coot</td>\n",
       "      <td>Mar2016</td>\n",
       "      <td>Clarkston, WA</td>\n",
       "      <td>Bowles</td>\n",
       "    </tr>\n",
       "    <tr>\n",
       "      <th>41</th>\n",
       "      <td>House Wren</td>\n",
       "      <td>16Apr2016</td>\n",
       "      <td>Moscow, ID</td>\n",
       "      <td>Bowles</td>\n",
       "    </tr>\n",
       "  </tbody>\n",
       "</table>\n",
       "</div>"
      ],
      "text/plain": [
       "            Species       Date                  Location  Birder\n",
       "37    House Sparrow   3Apr2016  Mt. View Park Moscow, ID  Bowles\n",
       "38      House Finch    Mar2016                WSU Campus  Bowles\n",
       "39  American Wigeon    Mar2016             Clarkston, WA  Bowles\n",
       "40    American Coot    Mar2016             Clarkston, WA  Bowles\n",
       "41       House Wren  16Apr2016                Moscow, ID  Bowles"
      ]
     },
     "execution_count": 16,
     "metadata": {},
     "output_type": "execute_result"
    }
   ],
   "source": [
    "final_data.tail()\n",
    "#we have the data all added together, but I see a small problem here\n",
    "#all of the dates are not in the same format\n",
    "#and the index column is messed up"
   ]
  },
  {
   "cell_type": "code",
   "execution_count": 17,
   "metadata": {},
   "outputs": [
    {
     "data": {
      "text/html": [
       "<div>\n",
       "<style scoped>\n",
       "    .dataframe tbody tr th:only-of-type {\n",
       "        vertical-align: middle;\n",
       "    }\n",
       "\n",
       "    .dataframe tbody tr th {\n",
       "        vertical-align: top;\n",
       "    }\n",
       "\n",
       "    .dataframe thead th {\n",
       "        text-align: right;\n",
       "    }\n",
       "</style>\n",
       "<table border=\"1\" class=\"dataframe\">\n",
       "  <thead>\n",
       "    <tr style=\"text-align: right;\">\n",
       "      <th></th>\n",
       "      <th>Species</th>\n",
       "      <th>Date</th>\n",
       "      <th>Location</th>\n",
       "      <th>Birder</th>\n",
       "    </tr>\n",
       "  </thead>\n",
       "  <tbody>\n",
       "    <tr>\n",
       "      <th>199</th>\n",
       "      <td>House Sparrow</td>\n",
       "      <td>3Apr2016</td>\n",
       "      <td>Mt. View Park Moscow, ID</td>\n",
       "      <td>Bowles</td>\n",
       "    </tr>\n",
       "    <tr>\n",
       "      <th>200</th>\n",
       "      <td>House Finch</td>\n",
       "      <td>Mar2016</td>\n",
       "      <td>WSU Campus</td>\n",
       "      <td>Bowles</td>\n",
       "    </tr>\n",
       "    <tr>\n",
       "      <th>201</th>\n",
       "      <td>American Wigeon</td>\n",
       "      <td>Mar2016</td>\n",
       "      <td>Clarkston, WA</td>\n",
       "      <td>Bowles</td>\n",
       "    </tr>\n",
       "    <tr>\n",
       "      <th>202</th>\n",
       "      <td>American Coot</td>\n",
       "      <td>Mar2016</td>\n",
       "      <td>Clarkston, WA</td>\n",
       "      <td>Bowles</td>\n",
       "    </tr>\n",
       "    <tr>\n",
       "      <th>203</th>\n",
       "      <td>House Wren</td>\n",
       "      <td>16Apr2016</td>\n",
       "      <td>Moscow, ID</td>\n",
       "      <td>Bowles</td>\n",
       "    </tr>\n",
       "  </tbody>\n",
       "</table>\n",
       "</div>"
      ],
      "text/plain": [
       "             Species       Date                  Location  Birder\n",
       "199    House Sparrow   3Apr2016  Mt. View Park Moscow, ID  Bowles\n",
       "200      House Finch    Mar2016                WSU Campus  Bowles\n",
       "201  American Wigeon    Mar2016             Clarkston, WA  Bowles\n",
       "202    American Coot    Mar2016             Clarkston, WA  Bowles\n",
       "203       House Wren  16Apr2016                Moscow, ID  Bowles"
      ]
     },
     "execution_count": 17,
     "metadata": {},
     "output_type": "execute_result"
    }
   ],
   "source": [
    "#we can reset the index column numbers easily enough\n",
    "reset = final_data.reset_index(drop=True)\n",
    "reset.tail()"
   ]
  },
  {
   "cell_type": "code",
   "execution_count": 18,
   "metadata": {},
   "outputs": [
    {
     "data": {
      "text/plain": [
       "0     2016-01-01\n",
       "1     2016-01-01\n",
       "2     2016-01-01\n",
       "3     2016-01-01\n",
       "4     2016-01-03\n",
       "5     2016-01-03\n",
       "6     2016-01-04\n",
       "7     2016-01-04\n",
       "8     2016-01-04\n",
       "9     2016-01-04\n",
       "10    2016-01-04\n",
       "11    2016-01-04\n",
       "12    2016-01-04\n",
       "13    2016-01-04\n",
       "14    2016-01-04\n",
       "15    2016-01-04\n",
       "16    2016-01-04\n",
       "17    2016-01-04\n",
       "18    2016-01-04\n",
       "19    2016-01-04\n",
       "20    2016-01-04\n",
       "21    2016-01-04\n",
       "22    2016-01-04\n",
       "23    2016-01-04\n",
       "24    2016-01-04\n",
       "25    2016-01-04\n",
       "26    2016-01-05\n",
       "27    2016-01-05\n",
       "28    2016-01-05\n",
       "29    2016-01-05\n",
       "         ...    \n",
       "174   2016-01-09\n",
       "175   2016-01-09\n",
       "176   2016-01-14\n",
       "177   2016-01-23\n",
       "178   2016-01-23\n",
       "179   2016-01-27\n",
       "180   2016-01-24\n",
       "181   2016-01-31\n",
       "182   2016-01-30\n",
       "183   2016-01-29\n",
       "184   2016-01-31\n",
       "185   2016-02-03\n",
       "186   2016-02-02\n",
       "187   2016-02-03\n",
       "188   2016-02-21\n",
       "189   2016-02-20\n",
       "190   2016-02-20\n",
       "191   2016-02-19\n",
       "192   2016-02-20\n",
       "193   2016-03-10\n",
       "194   2016-03-10\n",
       "195   2016-03-02\n",
       "196   2016-03-01\n",
       "197   2016-04-03\n",
       "198   2016-04-03\n",
       "199   2016-04-03\n",
       "200   2016-03-01\n",
       "201   2016-03-01\n",
       "202   2016-03-01\n",
       "203   2016-04-16\n",
       "Name: Date, Length: 204, dtype: datetime64[ns]"
      ]
     },
     "execution_count": 18,
     "metadata": {},
     "output_type": "execute_result"
    }
   ],
   "source": [
    "#I haven't ever changed something to a different date/time format before, let's try this pd.to_datetime function\n",
    "#that I just learned about on stackexchange.\n",
    "test_series = reset['Date']\n",
    "test_series.shape\n",
    "#print(test_series)\n",
    "pd.to_datetime(test_series)"
   ]
  },
  {
   "cell_type": "code",
   "execution_count": 19,
   "metadata": {},
   "outputs": [
    {
     "data": {
      "text/html": [
       "<div>\n",
       "<style scoped>\n",
       "    .dataframe tbody tr th:only-of-type {\n",
       "        vertical-align: middle;\n",
       "    }\n",
       "\n",
       "    .dataframe tbody tr th {\n",
       "        vertical-align: top;\n",
       "    }\n",
       "\n",
       "    .dataframe thead th {\n",
       "        text-align: right;\n",
       "    }\n",
       "</style>\n",
       "<table border=\"1\" class=\"dataframe\">\n",
       "  <thead>\n",
       "    <tr style=\"text-align: right;\">\n",
       "      <th></th>\n",
       "      <th>Species</th>\n",
       "      <th>Date</th>\n",
       "      <th>Location</th>\n",
       "      <th>Birder</th>\n",
       "      <th>Clean_Dates</th>\n",
       "    </tr>\n",
       "  </thead>\n",
       "  <tbody>\n",
       "    <tr>\n",
       "      <th>0</th>\n",
       "      <td>Pileated Woodpecker</td>\n",
       "      <td>1/1/2016</td>\n",
       "      <td>CDA, ID</td>\n",
       "      <td>Bright</td>\n",
       "      <td>2016-01-01</td>\n",
       "    </tr>\n",
       "    <tr>\n",
       "      <th>1</th>\n",
       "      <td>Black-billed Magpie</td>\n",
       "      <td>1/1/2016</td>\n",
       "      <td>CDA, ID</td>\n",
       "      <td>Bright</td>\n",
       "      <td>2016-01-01</td>\n",
       "    </tr>\n",
       "    <tr>\n",
       "      <th>2</th>\n",
       "      <td>Common Raven</td>\n",
       "      <td>1/1/2016</td>\n",
       "      <td>CDA, ID</td>\n",
       "      <td>Bright</td>\n",
       "      <td>2016-01-01</td>\n",
       "    </tr>\n",
       "    <tr>\n",
       "      <th>3</th>\n",
       "      <td>Black-capped Chickadee</td>\n",
       "      <td>1/1/2016</td>\n",
       "      <td>CDA, ID</td>\n",
       "      <td>Bright</td>\n",
       "      <td>2016-01-01</td>\n",
       "    </tr>\n",
       "    <tr>\n",
       "      <th>4</th>\n",
       "      <td>Wild Turkey</td>\n",
       "      <td>1/3/2016</td>\n",
       "      <td>Hwy 95, ID</td>\n",
       "      <td>Bright</td>\n",
       "      <td>2016-01-03</td>\n",
       "    </tr>\n",
       "  </tbody>\n",
       "</table>\n",
       "</div>"
      ],
      "text/plain": [
       "                  Species      Date    Location  Birder Clean_Dates\n",
       "0     Pileated Woodpecker  1/1/2016     CDA, ID  Bright  2016-01-01\n",
       "1     Black-billed Magpie  1/1/2016     CDA, ID  Bright  2016-01-01\n",
       "2            Common Raven  1/1/2016     CDA, ID  Bright  2016-01-01\n",
       "3  Black-capped Chickadee  1/1/2016     CDA, ID  Bright  2016-01-01\n",
       "4             Wild Turkey  1/3/2016  Hwy 95, ID  Bright  2016-01-03"
      ]
     },
     "execution_count": 19,
     "metadata": {},
     "output_type": "execute_result"
    }
   ],
   "source": [
    "#looks like it worked pretty well! let's implement it on our data\n",
    "reset['Clean_Dates'] = pd.to_datetime(reset['Date'])\n",
    "reset.head()"
   ]
  },
  {
   "cell_type": "code",
   "execution_count": 20,
   "metadata": {},
   "outputs": [],
   "source": [
    "#let's drop out the date column and save it as a new object\n",
    "clean_data = reset.drop('Date', axis = 1)"
   ]
  },
  {
   "cell_type": "code",
   "execution_count": 44,
   "metadata": {},
   "outputs": [
    {
     "data": {
      "text/plain": [
       "pandas.core.frame.DataFrame"
      ]
     },
     "execution_count": 44,
     "metadata": {},
     "output_type": "execute_result"
    }
   ],
   "source": [
    "clean_data.head()\n",
    "clean_data.columns\n",
    "type(clean_data)"
   ]
  },
  {
   "cell_type": "code",
   "execution_count": 22,
   "metadata": {},
   "outputs": [],
   "source": [
    "# a fun project to try in the future: changing the location strings into geocode data\n",
    "# then we can make a map of where all the birds were seen\n",
    "# from pygeocoder import Geocoder"
   ]
  },
  {
   "cell_type": "code",
   "execution_count": 23,
   "metadata": {},
   "outputs": [],
   "source": [
    "# print(clean_data['Location'][1])\n",
    "# Geocoder.geocode(clean_data['Location'][0]).valid_address"
   ]
  },
  {
   "cell_type": "code",
   "execution_count": 317,
   "metadata": {},
   "outputs": [],
   "source": [
    "#instead, let's go ahead and saved our cleaned up version as a new csv\n",
    "\n",
    "clean_data.to_csv('cleaned_birding_data.csv', index=False)"
   ]
  }
 ],
 "metadata": {
  "kernelspec": {
   "display_name": "Python 3",
   "language": "python",
   "name": "python3"
  },
  "language_info": {
   "codemirror_mode": {
    "name": "ipython",
    "version": 3
   },
   "file_extension": ".py",
   "mimetype": "text/x-python",
   "name": "python",
   "nbconvert_exporter": "python",
   "pygments_lexer": "ipython3",
   "version": "3.6.5"
  }
 },
 "nbformat": 4,
 "nbformat_minor": 2
}
